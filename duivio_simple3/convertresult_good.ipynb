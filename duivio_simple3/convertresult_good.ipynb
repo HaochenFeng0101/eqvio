{
 "cells": [
  {
   "cell_type": "code",
   "execution_count": 1,
   "metadata": {},
   "outputs": [
    {
     "name": "stdout",
     "output_type": "stream",
     "text": [
      "Index(['193590161729319', '-0.00201', '0.01315', '0.00491', '0.57366',\n",
      "       '0.44318', '-0.53706', '0.43136', '-0.02179', '0.02603', '0.02482',\n",
      "       'Unnamed: 11'],\n",
      "      dtype='object')\n"
     ]
    },
    {
     "ename": "KeyError",
     "evalue": "'time'",
     "output_type": "error",
     "traceback": [
      "\u001b[0;31m---------------------------------------------------------------------------\u001b[0m",
      "\u001b[0;31mKeyError\u001b[0m                                  Traceback (most recent call last)",
      "File \u001b[0;32m~/anaconda3/envs/honors/lib/python3.8/site-packages/pandas/core/indexes/base.py:3652\u001b[0m, in \u001b[0;36mIndex.get_loc\u001b[0;34m(self, key)\u001b[0m\n\u001b[1;32m   3651\u001b[0m \u001b[39mtry\u001b[39;00m:\n\u001b[0;32m-> 3652\u001b[0m     \u001b[39mreturn\u001b[39;00m \u001b[39mself\u001b[39;49m\u001b[39m.\u001b[39;49m_engine\u001b[39m.\u001b[39;49mget_loc(casted_key)\n\u001b[1;32m   3653\u001b[0m \u001b[39mexcept\u001b[39;00m \u001b[39mKeyError\u001b[39;00m \u001b[39mas\u001b[39;00m err:\n",
      "File \u001b[0;32m~/anaconda3/envs/honors/lib/python3.8/site-packages/pandas/_libs/index.pyx:147\u001b[0m, in \u001b[0;36mpandas._libs.index.IndexEngine.get_loc\u001b[0;34m()\u001b[0m\n",
      "File \u001b[0;32m~/anaconda3/envs/honors/lib/python3.8/site-packages/pandas/_libs/index.pyx:176\u001b[0m, in \u001b[0;36mpandas._libs.index.IndexEngine.get_loc\u001b[0;34m()\u001b[0m\n",
      "File \u001b[0;32mpandas/_libs/hashtable_class_helper.pxi:7080\u001b[0m, in \u001b[0;36mpandas._libs.hashtable.PyObjectHashTable.get_item\u001b[0;34m()\u001b[0m\n",
      "File \u001b[0;32mpandas/_libs/hashtable_class_helper.pxi:7088\u001b[0m, in \u001b[0;36mpandas._libs.hashtable.PyObjectHashTable.get_item\u001b[0;34m()\u001b[0m\n",
      "\u001b[0;31mKeyError\u001b[0m: 'time'",
      "\nThe above exception was the direct cause of the following exception:\n",
      "\u001b[0;31mKeyError\u001b[0m                                  Traceback (most recent call last)",
      "Cell \u001b[0;32mIn[1], line 11\u001b[0m\n\u001b[1;32m      6\u001b[0m \u001b[39mprint\u001b[39m(df\u001b[39m.\u001b[39mcolumns)\n\u001b[1;32m     10\u001b[0m \u001b[39m# convert time to integer milliseconds\u001b[39;00m\n\u001b[0;32m---> 11\u001b[0m df[\u001b[39m'\u001b[39m\u001b[39mtime\u001b[39m\u001b[39m'\u001b[39m] \u001b[39m=\u001b[39m (df[\u001b[39m'\u001b[39;49m\u001b[39mtime\u001b[39;49m\u001b[39m'\u001b[39;49m] \u001b[39m*\u001b[39m \u001b[39m1000\u001b[39m)\u001b[39m.\u001b[39mastype(\u001b[39mint\u001b[39m)\n\u001b[1;32m     13\u001b[0m \u001b[39m# Reorder the columns\u001b[39;00m\n\u001b[1;32m     14\u001b[0m df \u001b[39m=\u001b[39m df[[\u001b[39m'\u001b[39m\u001b[39mtime\u001b[39m\u001b[39m'\u001b[39m, \u001b[39m'\u001b[39m\u001b[39mpx\u001b[39m\u001b[39m'\u001b[39m, \u001b[39m'\u001b[39m\u001b[39mpy\u001b[39m\u001b[39m'\u001b[39m, \u001b[39m'\u001b[39m\u001b[39mpz\u001b[39m\u001b[39m'\u001b[39m, \u001b[39m'\u001b[39m\u001b[39mqw\u001b[39m\u001b[39m'\u001b[39m, \u001b[39m'\u001b[39m\u001b[39mqx\u001b[39m\u001b[39m'\u001b[39m, \u001b[39m'\u001b[39m\u001b[39mqy\u001b[39m\u001b[39m'\u001b[39m, \u001b[39m'\u001b[39m\u001b[39mqz\u001b[39m\u001b[39m'\u001b[39m]]\n",
      "File \u001b[0;32m~/anaconda3/envs/honors/lib/python3.8/site-packages/pandas/core/frame.py:3761\u001b[0m, in \u001b[0;36mDataFrame.__getitem__\u001b[0;34m(self, key)\u001b[0m\n\u001b[1;32m   3759\u001b[0m \u001b[39mif\u001b[39;00m \u001b[39mself\u001b[39m\u001b[39m.\u001b[39mcolumns\u001b[39m.\u001b[39mnlevels \u001b[39m>\u001b[39m \u001b[39m1\u001b[39m:\n\u001b[1;32m   3760\u001b[0m     \u001b[39mreturn\u001b[39;00m \u001b[39mself\u001b[39m\u001b[39m.\u001b[39m_getitem_multilevel(key)\n\u001b[0;32m-> 3761\u001b[0m indexer \u001b[39m=\u001b[39m \u001b[39mself\u001b[39;49m\u001b[39m.\u001b[39;49mcolumns\u001b[39m.\u001b[39;49mget_loc(key)\n\u001b[1;32m   3762\u001b[0m \u001b[39mif\u001b[39;00m is_integer(indexer):\n\u001b[1;32m   3763\u001b[0m     indexer \u001b[39m=\u001b[39m [indexer]\n",
      "File \u001b[0;32m~/anaconda3/envs/honors/lib/python3.8/site-packages/pandas/core/indexes/base.py:3654\u001b[0m, in \u001b[0;36mIndex.get_loc\u001b[0;34m(self, key)\u001b[0m\n\u001b[1;32m   3652\u001b[0m     \u001b[39mreturn\u001b[39;00m \u001b[39mself\u001b[39m\u001b[39m.\u001b[39m_engine\u001b[39m.\u001b[39mget_loc(casted_key)\n\u001b[1;32m   3653\u001b[0m \u001b[39mexcept\u001b[39;00m \u001b[39mKeyError\u001b[39;00m \u001b[39mas\u001b[39;00m err:\n\u001b[0;32m-> 3654\u001b[0m     \u001b[39mraise\u001b[39;00m \u001b[39mKeyError\u001b[39;00m(key) \u001b[39mfrom\u001b[39;00m \u001b[39merr\u001b[39;00m\n\u001b[1;32m   3655\u001b[0m \u001b[39mexcept\u001b[39;00m \u001b[39mTypeError\u001b[39;00m:\n\u001b[1;32m   3656\u001b[0m     \u001b[39m# If we have a listlike key, _check_indexing_error will raise\u001b[39;00m\n\u001b[1;32m   3657\u001b[0m     \u001b[39m#  InvalidIndexError. Otherwise we fall through and re-raise\u001b[39;00m\n\u001b[1;32m   3658\u001b[0m     \u001b[39m#  the TypeError.\u001b[39;00m\n\u001b[1;32m   3659\u001b[0m     \u001b[39mself\u001b[39m\u001b[39m.\u001b[39m_check_indexing_error(key)\n",
      "\u001b[0;31mKeyError\u001b[0m: 'time'"
     ]
    }
   ],
   "source": [
    "import pandas as pd\n",
    "\n",
    "# Load the csv file\n",
    "df = pd.read_csv('lab_manual2.csv', sep=',')\n",
    "df.columns = df.columns.str.strip()\n",
    "print(df.columns)\n",
    "\n",
    "\n",
    "\n",
    "# convert time to integer milliseconds\n",
    "df['time'] = (df['time'] * 1000).astype(int)\n",
    "\n",
    "# Reorder the columns\n",
    "# df = df[['time', 'px', 'py', 'pz', 'qw', 'qx', 'qy', 'qz']]\n",
    "\n",
    "\n",
    "# Write the DataFrame back to a new csv file with the reordered columns\n",
    "df.to_csv('imu_output.csv', index=False)\n",
    "\n",
    "#python process_result.py lab-bumper1"
   ]
  },
  {
   "cell_type": "code",
   "execution_count": 3,
   "metadata": {},
   "outputs": [
    {
     "name": "stdout",
     "output_type": "stream",
     "text": [
      "Index(['time', 'px', 'py', 'pz', 'qx', 'qy', 'qz', 'qw'], dtype='object')\n",
      "stamped_traj_estimate.txt\n"
     ]
    }
   ],
   "source": [
    "import pandas as pd\n",
    "\n",
    "# Load the dataframe from csv\n",
    "with open('lab_simple3_tum.csv', 'r') as f:\n",
    "    current_content = f.read()\n",
    "\n",
    "# Open the file in write mode (this will overwrite it)\n",
    "with open('lab_simple3_tum.csv', 'w') as f:\n",
    "    # Write the header\n",
    "    f.write('time px py pz qx qy qz qw\\n')\n",
    "    # Write the original content after the header\n",
    "    f.write(current_content)\n",
    "    \n",
    "df = pd.read_csv('lab_simple3_tum.csv', sep=' ')\n",
    "df.columns = df.columns.str.strip()\n",
    "print(df.columns)\n",
    "\n",
    "# Open the txt file (or create it)\n",
    "with open('stamped_traj_estimate.txt', 'w') as f:\n",
    "    # Write the header\n",
    "    f.write(\"#timestamp tx ty tz qx qy qz qw\\n\")\n",
    "\n",
    "    df['time'] = df['time'].astype(float)\n",
    "\n",
    "\n",
    "    # Write the data in scientific notation\n",
    "    for index, row in df.iterrows():\n",
    "        timestamp = '{:.12f}'.format(row['time'])\n",
    "        f.write(\"{} {:.12f} {:.12f} {:.12f} {:.12f} {:.12f} {:.12f} {:.12f}\\n\".format(\n",
    "            timestamp, row['px'], row['py'], row['pz'], row['qx'], row['qy'], row['qz'], row['qw']))\n",
    "\n",
    "print(\"stamped_traj_estimate.txt\")\n"
   ]
  },
  {
   "cell_type": "code",
   "execution_count": 3,
   "metadata": {},
   "outputs": [
    {
     "name": "stdout",
     "output_type": "stream",
     "text": [
      "Data written to stamped_groundtruth.txt\n"
     ]
    }
   ],
   "source": [
    "import pandas as pd\n",
    "\n",
    "# Load the dataframe from csv\n",
    "# df = pd.read_csv('lab_bumper1_gt.csv', delimiter=\",\")\n",
    "# df.columns = df.columns.str.strip()\n",
    "# print(df.columns)\n",
    "# print(df.head)\n",
    "\n",
    "def extract(gt,outputname):\n",
    "    # Read the CSV file using pandas\n",
    "    df = pd.read_csv(gt, delimiter=\" \", header=0)\n",
    "\n",
    "    # Open the output file\n",
    "    with open(outputname, 'w') as fout:\n",
    "        # Write the header\n",
    "        fout.write('# time tx ty tz qx qy qz qw\\n')\n",
    "\n",
    "        # Iterate over the rows of the DataFrame\n",
    "        for index, row in df.iterrows():\n",
    "            # Format the output line\n",
    "            # line = \"{:.12f} {:.12f} {:.12f} {:.12f} {:.12f} {:.12f} {:.12f} {:.12f}\\n\".format(\n",
    "            #     row[0], row[1], row[2], row[3], row[4], row[5], row[6], row[7])   \n",
    "            line = \"{:.12f} {:.12f} {:.12f} {:.12f} {:.12f} {:.12f} {:.12f} {:.12f}\\n\".format(\n",
    "            row[0], row[1], row[2], row[3], row[4], row[5], row[6], row[7])\n",
    "\n",
    "            # Write the line to the output file\n",
    "            fout.write(line)\n",
    "\n",
    "extract('lab_simple3_gt.csv','stamped_groundtruth.txt' )\n",
    "print(\"Data written to stamped_groundtruth.txt\")\n"
   ]
  },
  {
   "cell_type": "code",
   "execution_count": 9,
   "metadata": {},
   "outputs": [
    {
     "name": "stdout",
     "output_type": "stream",
     "text": [
      "done\n"
     ]
    }
   ],
   "source": [
    "import numpy as np\n",
    "import pandas as pd\n",
    "from scipy.spatial.transform import Rotation as R\n",
    "\n",
    "# Provided transformation matrix\n",
    "T = np.array([[0, 0, -1, 0], \n",
    "              [0, 1, 0, 0], \n",
    "              [1, 0, 0, 0], \n",
    "              [0, 0, 0, 1]])\n",
    "\n",
    "T1 = np.array([[0,0,-1],\n",
    "               [0,1,0],\n",
    "               [1,0,0]])\n",
    "\n",
    "def transform_positions(input_file_name, output_file_name):\n",
    "    # Read the csv file, skipping the first row\n",
    "    df = pd.read_csv(input_file_name, sep=' ', \n",
    "                     names=['timestamp', 'tx', 'ty', 'tz', 'qx', 'qy', 'qz', 'qw'], skiprows=1)\n",
    "\n",
    "    # Initialize a new dictionary to hold transformed positions\n",
    "    transformed_data = {'timestamp': [], 'tx': [], 'ty': [], 'tz': [], 'qx': [], 'qy': [], 'qz': [], 'qw': []}\n",
    "\n",
    "    # Apply transformation to each position\n",
    "    for index, row in df.iterrows():\n",
    "        # Original position\n",
    "        original = np.array([row['tx'], row['ty'], row['tz'], 1])\n",
    "\n",
    "        # Apply transformation\n",
    "        transformed = np.matmul(T, original)\n",
    "\n",
    "        # Extract new position\n",
    "        new_position = transformed[:3]\n",
    "\n",
    "\n",
    "        # Original rotation as quaternion\n",
    "        original_rotation = R.from_quat([row['qx'], row['qy'], row['qz'], row['qw']])\n",
    "\n",
    "        # Convert quaternion to rotation matrix\n",
    "        original_rotation_matrix = original_rotation.as_matrix()\n",
    "\n",
    "        # Apply T1 to the rotation matrix\n",
    "        transformed_rotation_matrix = np.matmul(T1, original_rotation_matrix)\n",
    "\n",
    "        # Convert transformed rotation matrix back to quaternion\n",
    "        transformed_rotation = R.from_matrix(transformed_rotation_matrix)\n",
    "        transformed_rotation_quat = transformed_rotation.as_quat()\n",
    "\n",
    "        # Add new position and rotation to the dictionary\n",
    "        transformed_data['timestamp'].append(row['timestamp'])\n",
    "        transformed_data['tx'].append(new_position[0])\n",
    "        transformed_data['ty'].append(new_position[1])\n",
    "        transformed_data['tz'].append(new_position[2])\n",
    "        transformed_data['qx'].append(transformed_rotation_quat[0])\n",
    "        transformed_data['qy'].append(transformed_rotation_quat[1])\n",
    "        transformed_data['qz'].append(transformed_rotation_quat[2])\n",
    "        transformed_data['qw'].append(transformed_rotation_quat[3])\n",
    "\n",
    "    # Convert the dictionary to a DataFrame\n",
    "    transformed_df = pd.DataFrame(transformed_data)\n",
    "\n",
    "    # Write new positions to a csv file\n",
    "    transformed_df.to_csv(output_file_name, index=False, sep=' ')\n",
    "\n",
    "# Apply transformation to both files\n",
    "# transform_positions('stamped_traj_estimate.txt', 'stamped_traj_estimate.txt')\n",
    "transform_positions('stamped_groundtruth.txt', 'stamped_groundtruth.txt')\n",
    "print('done')\n"
   ]
  }
 ],
 "metadata": {
  "kernelspec": {
   "display_name": "honors",
   "language": "python",
   "name": "python3"
  },
  "language_info": {
   "codemirror_mode": {
    "name": "ipython",
    "version": 3
   },
   "file_extension": ".py",
   "mimetype": "text/x-python",
   "name": "python",
   "nbconvert_exporter": "python",
   "pygments_lexer": "ipython3",
   "version": "3.8.16"
  },
  "orig_nbformat": 4
 },
 "nbformat": 4,
 "nbformat_minor": 2
}
